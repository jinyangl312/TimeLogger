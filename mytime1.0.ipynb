{
 "cells": [
  {
   "cell_type": "code",
   "execution_count": 1,
   "metadata": {},
   "outputs": [
    {
     "name": "stdout",
     "output_type": "stream",
     "text": [
      "今天是2021-11-30\n"
     ]
    }
   ],
   "source": [
    "import time\n",
    "totaltime = 0\n",
    "localtime = time.localtime(time.time())\n",
    "date = '%s-%s-%s'%(localtime.tm_year,localtime.tm_mon,localtime.tm_mday)\n",
    "print('今天是%s'%date)\n",
    "count_on = False #代表是否开始计时"
   ]
  },
  {
   "cell_type": "code",
   "execution_count": 5,
   "metadata": {},
   "outputs": [
    {
     "name": "stdout",
     "output_type": "stream",
     "text": [
      "计时结束，今天总共已学习15.91秒\n"
     ]
    }
   ],
   "source": [
    "if count_on:\n",
    "    # 计时结束\n",
    "    t2 = time.time()\n",
    "    totaltime += (t2-t1)\n",
    "    print(\"计时结束，今天总共已学习%.2f秒\"%totaltime)\n",
    "    count_on = False\n",
    "else:\n",
    "    # 开始计时\n",
    "    t1 = time.time()\n",
    "    count_on = True\n",
    "    print('计时开始，加油！')"
   ]
  },
  {
   "cell_type": "code",
   "execution_count": 17,
   "metadata": {},
   "outputs": [
    {
     "name": "stdout",
     "output_type": "stream",
     "text": [
      "今天是2021-11-30，已学习0h 0min 4s\n"
     ]
    }
   ],
   "source": [
    "# 格式化输出\n",
    "totalmin = totaltime//60\n",
    "totalhour = totalmin//60\n",
    "print(\"今天是%s，已学习%dh %dmin %ds\"%(date,totalhour,totalmin%60,totaltime%60))"
   ]
  },
  {
   "cell_type": "code",
   "execution_count": 19,
   "metadata": {},
   "outputs": [],
   "source": [
    "# 保存记录\n",
    "f = open('history.txt','a',encoding='UTF-8')\n",
    "f.write(\"今天是%s，已学习%dh %dmin %ds\"%(date,totalhour,totalmin%60,totaltime%60))\n",
    "f.close()"
   ]
  },
  {
   "cell_type": "code",
   "execution_count": 5,
   "metadata": {},
   "outputs": [],
   "source": [
    "import json\n",
    "with open('data.json', 'r') as f:\n",
    "    data = json.load(f)"
   ]
  },
  {
   "cell_type": "code",
   "execution_count": 9,
   "metadata": {},
   "outputs": [
    {
     "data": {
      "text/plain": [
       "dict_keys(['2021-01-11'])"
      ]
     },
     "execution_count": 9,
     "metadata": {},
     "output_type": "execute_result"
    }
   ],
   "source": [
    "data.keys()"
   ]
  }
 ],
 "metadata": {
  "interpreter": {
   "hash": "a6179c78cc76ec43dd88db57c7633d175de35138ec56ec5e2170c485d0d02981"
  },
  "kernelspec": {
   "display_name": "Python 3.8.10 64-bit ('frozenlake': conda)",
   "language": "python",
   "name": "python3"
  },
  "language_info": {
   "codemirror_mode": {
    "name": "ipython",
    "version": 3
   },
   "file_extension": ".py",
   "mimetype": "text/x-python",
   "name": "python",
   "nbconvert_exporter": "python",
   "pygments_lexer": "ipython3",
   "version": "3.8.10"
  },
  "orig_nbformat": 4
 },
 "nbformat": 4,
 "nbformat_minor": 2
}
